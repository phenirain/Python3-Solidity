{
 "cells": [
  {
   "cell_type": "code",
   "execution_count": 9,
   "id": "initial_id",
   "metadata": {
    "collapsed": true,
    "ExecuteTime": {
     "end_time": "2023-12-18T15:40:18.607175400Z",
     "start_time": "2023-12-18T15:40:18.575728800Z"
    }
   },
   "outputs": [
    {
     "name": "stdout",
     "output_type": "stream",
     "text": [
      "             Heroes (<2K MMR) PickRate(%) (<2K MMR) WinRate(%)  \\\n",
      "0         Anti-Mage                11.16%               51.22%   \n",
      "1               Axe                17.36%               52.93%   \n",
      "2              Bane                 2.31%               47.96%   \n",
      "3       Bloodseeker                 4.71%               48.53%   \n",
      "4    Crystal Maiden                13.83%               50.54%   \n",
      "..              ...                   ...                  ...   \n",
      "119            Mars                 2.40%               43.91%   \n",
      "120     Dawnbreaker                 6.88%               48.19%   \n",
      "121           Marci                 3.70%               47.74%   \n",
      "122    Primal Beast                 6.40%               49.02%   \n",
      "123          Muerta                12.27%               51.92%   \n",
      "\n",
      "    (2K-3K MMR) PickRate(%) (2K-3K MMR) WinRate(%) (3K-4K MMR) PickRate(%)  \\\n",
      "0                     9.65%                 51.53%                   7.91%   \n",
      "1                    16.18%                 51.01%                  14.50%   \n",
      "2                     2.38%                 49.05%                   2.71%   \n",
      "3                     3.28%                 48.43%                   2.77%   \n",
      "4                    10.69%                 48.85%                   8.37%   \n",
      "..                      ...                    ...                     ...   \n",
      "119                   2.93%                 44.23%                   3.20%   \n",
      "120                   8.54%                 47.69%                   9.86%   \n",
      "121                   3.75%                 48.74%                   4.19%   \n",
      "122                   7.89%                 49.31%                   9.62%   \n",
      "123                  14.74%                 51.18%                  17.28%   \n",
      "\n",
      "    (3K-4K MMR) WinRate(%) (4K-5K MMR) PickRate(%) (4K-5K MMR) WinRate(%)  \\\n",
      "0                   51.77%                   6.48%                 51.03%   \n",
      "1                   49.92%                  13.20%                 49.10%   \n",
      "2                   50.76%                   3.19%                 50.41%   \n",
      "3                   48.97%                   2.57%                 48.77%   \n",
      "4                   48.03%                   6.88%                 46.95%   \n",
      "..                     ...                     ...                    ...   \n",
      "119                 44.69%                   3.21%                 44.58%   \n",
      "120                 47.87%                  10.65%                 48.23%   \n",
      "121                 48.33%                   4.78%                 49.64%   \n",
      "122                 49.82%                  11.25%                 50.75%   \n",
      "123                 50.75%                  19.11%                 50.16%   \n",
      "\n",
      "    (>5K MMR) PickRate(%)  ... (>2K MMR) KDA Ratio (>2K MMR) Avg Match  \\\n",
      "0                   4.45%  ...                3.21               41:30   \n",
      "1                  10.88%  ...                2.57               42:22   \n",
      "2                   4.88%  ...                2.35               41:51   \n",
      "3                   2.44%  ...                2.79               42:22   \n",
      "4                   4.51%  ...                2.20               41:35   \n",
      "..                    ...  ...                 ...                 ...   \n",
      "119                 3.02%  ...                2.57               41:46   \n",
      "120                12.17%  ...                2.81               41:11   \n",
      "121                 5.79%  ...                2.34               40:20   \n",
      "122                15.97%  ...                2.95               41:50   \n",
      "123                23.42%  ...                2.74               42:24   \n",
      "\n",
      "     (2K-3K MMR) KDA Ratio (2K-3K) Avg Match  (3K-4K MMR) KDA Ratio  \\\n",
      "0                     3.40             40:56                   3.42   \n",
      "1                     2.56             41:46                   2.56   \n",
      "2                     2.43             41:27                   2.43   \n",
      "3                     3.02             42:07                   3.13   \n",
      "4                     2.18             41:14                   2.17   \n",
      "..                     ...               ...                    ...   \n",
      "119                   2.76             41:23                   2.84   \n",
      "120                   2.90             40:51                   2.91   \n",
      "121                   2.45             39:48                   2.45   \n",
      "122                   3.15             41:26                   3.24   \n",
      "123                   2.95             41:57                   3.00   \n",
      "\n",
      "    (3K-4K MMR) Avg Match  (4K-5K MMR) KDA Ratio (4K-5K MMR) Avg Match  \\\n",
      "0                   40:04                   3.41                 39:01   \n",
      "1                   40:55                   2.57                 39:45   \n",
      "2                   40:36                   2.39                 39:37   \n",
      "3                   41:28                   3.23                 40:19   \n",
      "4                   40:30                   2.17                 39:25   \n",
      "..                    ...                    ...                   ...   \n",
      "119                 40:36                   2.85                 39:35   \n",
      "120                 40:02                   2.90                 39:03   \n",
      "121                 38:54                   2.49                 37:55   \n",
      "122                 40:41                   3.31                 39:38   \n",
      "123                 41:17                   2.99                 40:13   \n",
      "\n",
      "     (<5K MMR) KDA Ratio (<5K MMR) Avg Match  \n",
      "0                   3.45               37:18  \n",
      "1                   2.56               37:42  \n",
      "2                   2.29               36:48  \n",
      "3                   3.41               37:56  \n",
      "4                   2.15               37:22  \n",
      "..                   ...                 ...  \n",
      "119                 2.84               37:27  \n",
      "120                 2.86               36:46  \n",
      "121                 2.49               35:37  \n",
      "122                 3.40               36:59  \n",
      "123                 2.93               37:39  \n",
      "\n",
      "[124 rows x 22 columns]\n"
     ]
    }
   ],
   "source": [
    "# Цель: реализовать базовый анализ дата сета \n",
    "\n",
    "import pandas as pd\n",
    "\n",
    "dota = pd.read_csv(\"Dota2 Heroes by MMR Bracket.csv\")\n",
    "\n",
    "print(dota)\n",
    "\n",
    "# в данном блоке импортируем библиотеку, читаем дата сет из файла, выводим считанный дата сет\n",
    "# дата сет представляет собой список героев игры \"Dota 2\" процент выбора героя и процент победы героя в зависимости от рейтинга"
   ]
  },
  {
   "cell_type": "code",
   "execution_count": 10,
   "outputs": [
    {
     "name": "stdout",
     "output_type": "stream",
     "text": [
      "\n",
      "Размерность массива:\n"
     ]
    },
    {
     "data": {
      "text/plain": "(124, 22)"
     },
     "execution_count": 10,
     "metadata": {},
     "output_type": "execute_result"
    }
   ],
   "source": [
    "print(\"\\nРазмерность массива:\")\n",
    "dota.shape\n",
    "# тут мы выводим размерность массива"
   ],
   "metadata": {
    "collapsed": false,
    "ExecuteTime": {
     "end_time": "2023-12-18T15:40:24.535686900Z",
     "start_time": "2023-12-18T15:40:24.525799700Z"
    }
   },
   "id": "1cc7216891cd2cb5"
  },
  {
   "cell_type": "code",
   "execution_count": 11,
   "outputs": [
    {
     "name": "stdout",
     "output_type": "stream",
     "text": [
      "\n",
      "Наименование колонок\n"
     ]
    },
    {
     "data": {
      "text/plain": "Index(['Heroes', '(<2K MMR) PickRate(%)', '(<2K MMR) WinRate(%)',\n       '(2K-3K MMR) PickRate(%)', '(2K-3K MMR) WinRate(%)',\n       '(3K-4K MMR) PickRate(%)', '(3K-4K MMR) WinRate(%)',\n       '(4K-5K MMR) PickRate(%)', '(4K-5K MMR) WinRate(%)',\n       '(>5K MMR) PickRate(%)', '(>5K MMR) WinRate(%)', 'Heroes.1',\n       '(>2K MMR) KDA Ratio', '(>2K MMR) Avg Match', '(2K-3K MMR) KDA Ratio',\n       '(2K-3K) Avg Match', '(3K-4K MMR) KDA Ratio', '(3K-4K MMR) Avg Match',\n       '(4K-5K MMR) KDA Ratio', '(4K-5K MMR) Avg Match', '(<5K MMR) KDA Ratio',\n       '(<5K MMR) Avg Match'],\n      dtype='object')"
     },
     "execution_count": 11,
     "metadata": {},
     "output_type": "execute_result"
    }
   ],
   "source": [
    "print(\"\\nНаименование колонок\")\n",
    "dota.columns\n",
    "# в данном блоке выводим наименования колонок\n",
    "# в первой колонке содержится непосредственно имя героя, потом колонки начинают чередоваться так:\n",
    "# одна показывает процент выбора героя на определенном рейтинге, вторая показывает процент победы этого героя на этом рейтинге\n",
    "# после этого идут колонки со средними показателями (KDA, AVG): Ratio, Match, в зависимости от рейтинга"
   ],
   "metadata": {
    "collapsed": false,
    "ExecuteTime": {
     "end_time": "2023-12-18T15:40:30.081756800Z",
     "start_time": "2023-12-18T15:40:30.060961800Z"
    }
   },
   "id": "b36d002fbc190259"
  },
  {
   "cell_type": "code",
   "execution_count": 7,
   "outputs": [
    {
     "name": "stdout",
     "output_type": "stream",
     "text": [
      "\n",
      "Уникальные значения:\n"
     ]
    },
    {
     "data": {
      "text/plain": "Heroes                     124\n(<2K MMR) PickRate(%)      117\n(<2K MMR) WinRate(%)       116\n(2K-3K MMR) PickRate(%)    123\n(2K-3K MMR) WinRate(%)     116\n(3K-4K MMR) PickRate(%)    123\n(3K-4K MMR) WinRate(%)     117\n(4K-5K MMR) PickRate(%)    121\n(4K-5K MMR) WinRate(%)     117\n(>5K MMR) PickRate(%)      118\n(>5K MMR) WinRate(%)       115\nHeroes.1                   124\n(>2K MMR) KDA Ratio         78\n(>2K MMR) Avg Match         86\n(2K-3K MMR) KDA Ratio       82\n(2K-3K) Avg Match           90\n(3K-4K MMR) KDA Ratio       84\n(3K-4K MMR) Avg Match       89\n(4K-5K MMR) KDA Ratio       94\n(4K-5K MMR) Avg Match       90\n(<5K MMR) KDA Ratio         90\n(<5K MMR) Avg Match         98\ndtype: int64"
     },
     "execution_count": 7,
     "metadata": {},
     "output_type": "execute_result"
    }
   ],
   "source": [
    "print(\"\\nУникальные значения:\")\n",
    "dota.nunique()\n",
    "# в данном блоке мы выводим количество уникальных записей в каждой из колонок"
   ],
   "metadata": {
    "collapsed": false,
    "ExecuteTime": {
     "end_time": "2023-12-18T15:39:34.897035600Z",
     "start_time": "2023-12-18T15:39:34.857049200Z"
    }
   },
   "id": "7d62cef7098d0e46"
  },
  {
   "cell_type": "code",
   "execution_count": 15,
   "outputs": [
    {
     "data": {
      "text/plain": "               Heroes (<2K MMR) PickRate(%) (<2K MMR) WinRate(%)  \\\n81   Treant Protector                 9.74%               52.96%   \n80              Meepo                 2.43%               53.04%   \n64               Chen                 1.03%               46.93%   \n78         Lone Druid                 3.70%               54.20%   \n22             Kunkka                 9.80%               53.01%   \n..                ...                   ...                  ...   \n118          Snapfire                 5.08%               44.09%   \n107       Terrorblade                 3.06%               41.81%   \n42   Phantom Assassin                21.64%               48.11%   \n96          Timbersaw                 2.79%               44.40%   \n56        Enchantress                 6.05%               44.42%   \n\n    (2K-3K MMR) PickRate(%) (2K-3K MMR) WinRate(%) (3K-4K MMR) PickRate(%)  \\\n81                   11.46%                 53.78%                  13.73%   \n80                    1.75%                 54.35%                   1.70%   \n64                    0.99%                 49.51%                   1.14%   \n78                    4.35%                 55.12%                   5.35%   \n22                   13.46%                 55.70%                  16.51%   \n..                      ...                    ...                     ...   \n118                   6.07%                 43.92%                   6.04%   \n107                   2.44%                 41.62%                   2.30%   \n42                   19.83%                 46.88%                  18.21%   \n96                    2.45%                 43.69%                   2.38%   \n56                    5.24%                 42.01%                   5.02%   \n\n    (3K-4K MMR) WinRate(%) (4K-5K MMR) PickRate(%) (4K-5K MMR) WinRate(%)  \\\n81                  54.97%                  16.64%                 55.04%   \n80                  55.14%                   1.79%                 53.96%   \n64                  52.18%                   1.70%                 52.20%   \n78                  55.73%                   6.42%                 55.56%   \n22                  55.93%                  18.60%                 55.86%   \n..                     ...                     ...                    ...   \n118                 44.25%                   5.56%                 44.09%   \n107                 41.96%                   2.40%                 42.19%   \n42                  45.60%                  16.47%                 45.02%   \n96                  43.00%                   2.43%                 42.96%   \n56                  40.83%                   4.82%                 40.28%   \n\n    (>5K MMR) PickRate(%)  ... (>2K MMR) KDA Ratio (>2K MMR) Avg Match  \\\n81                 23.31%  ...                2.74               41:11   \n80                  2.03%  ...                2.77               38:56   \n64                  2.40%  ...                2.42               39:44   \n78                  8.39%  ...                3.24               38:54   \n22                 20.84%  ...                3.25               42:34   \n..                    ...  ...                 ...                 ...   \n118                 4.40%  ...                2.51               41:57   \n107                 2.98%  ...                2.37               41:24   \n42                 12.94%  ...                2.69               41:10   \n96                  2.51%  ...                2.53               41:42   \n56                  5.22%  ...                2.39               41:43   \n\n     (2K-3K MMR) KDA Ratio (2K-3K) Avg Match  (3K-4K MMR) KDA Ratio  \\\n81                    2.86             40:46                   2.92   \n80                    3.02             38:13                   3.18   \n64                    2.68             39:10                   2.86   \n78                    3.41             38:23                   3.51   \n22                    3.56             42:01                   3.63   \n..                     ...               ...                    ...   \n118                   2.63             41:33                   2.64   \n107                   2.72             41:07                   2.94   \n42                    2.93             40:47                   3.02   \n96                    2.62             41:17                   2.66   \n56                    2.27             41:10                   2.19   \n\n    (3K-4K MMR) Avg Match  (4K-5K MMR) KDA Ratio (4K-5K MMR) Avg Match  \\\n81                  39:56                   2.93                 38:57   \n80                  37:24                   3.21                 36:41   \n64                  37:52                   2.98                 37:07   \n78                  37:41                   3.56                 36:50   \n22                  41:16                   3.66                 40:17   \n..                    ...                    ...                   ...   \n118                 40:49                   2.61                 39:42   \n107                 40:40                   3.11                 39:56   \n42                  40:03                   3.08                 38:59   \n96                  40:32                   2.68                 39:16   \n56                  40:17                   2.15                 39:10   \n\n     (<5K MMR) KDA Ratio (<5K MMR) Avg Match  \n81                  2.97               36:26  \n80                  3.40               34:14  \n64                  3.10               34:36  \n78                  3.67               34:40  \n22                  3.68               37:52  \n..                   ...                 ...  \n118                 2.55               37:19  \n107                 3.27               37:06  \n42                  3.10               36:51  \n96                  2.70               37:04  \n56                  2.16               37:00  \n\n[124 rows x 22 columns]",
      "text/html": "<div>\n<style scoped>\n    .dataframe tbody tr th:only-of-type {\n        vertical-align: middle;\n    }\n\n    .dataframe tbody tr th {\n        vertical-align: top;\n    }\n\n    .dataframe thead th {\n        text-align: right;\n    }\n</style>\n<table border=\"1\" class=\"dataframe\">\n  <thead>\n    <tr style=\"text-align: right;\">\n      <th></th>\n      <th>Heroes</th>\n      <th>(&lt;2K MMR) PickRate(%)</th>\n      <th>(&lt;2K MMR) WinRate(%)</th>\n      <th>(2K-3K MMR) PickRate(%)</th>\n      <th>(2K-3K MMR) WinRate(%)</th>\n      <th>(3K-4K MMR) PickRate(%)</th>\n      <th>(3K-4K MMR) WinRate(%)</th>\n      <th>(4K-5K MMR) PickRate(%)</th>\n      <th>(4K-5K MMR) WinRate(%)</th>\n      <th>(&gt;5K MMR) PickRate(%)</th>\n      <th>...</th>\n      <th>(&gt;2K MMR) KDA Ratio</th>\n      <th>(&gt;2K MMR) Avg Match</th>\n      <th>(2K-3K MMR) KDA Ratio</th>\n      <th>(2K-3K) Avg Match</th>\n      <th>(3K-4K MMR) KDA Ratio</th>\n      <th>(3K-4K MMR) Avg Match</th>\n      <th>(4K-5K MMR) KDA Ratio</th>\n      <th>(4K-5K MMR) Avg Match</th>\n      <th>(&lt;5K MMR) KDA Ratio</th>\n      <th>(&lt;5K MMR) Avg Match</th>\n    </tr>\n  </thead>\n  <tbody>\n    <tr>\n      <th>81</th>\n      <td>Treant Protector</td>\n      <td>9.74%</td>\n      <td>52.96%</td>\n      <td>11.46%</td>\n      <td>53.78%</td>\n      <td>13.73%</td>\n      <td>54.97%</td>\n      <td>16.64%</td>\n      <td>55.04%</td>\n      <td>23.31%</td>\n      <td>...</td>\n      <td>2.74</td>\n      <td>41:11</td>\n      <td>2.86</td>\n      <td>40:46</td>\n      <td>2.92</td>\n      <td>39:56</td>\n      <td>2.93</td>\n      <td>38:57</td>\n      <td>2.97</td>\n      <td>36:26</td>\n    </tr>\n    <tr>\n      <th>80</th>\n      <td>Meepo</td>\n      <td>2.43%</td>\n      <td>53.04%</td>\n      <td>1.75%</td>\n      <td>54.35%</td>\n      <td>1.70%</td>\n      <td>55.14%</td>\n      <td>1.79%</td>\n      <td>53.96%</td>\n      <td>2.03%</td>\n      <td>...</td>\n      <td>2.77</td>\n      <td>38:56</td>\n      <td>3.02</td>\n      <td>38:13</td>\n      <td>3.18</td>\n      <td>37:24</td>\n      <td>3.21</td>\n      <td>36:41</td>\n      <td>3.40</td>\n      <td>34:14</td>\n    </tr>\n    <tr>\n      <th>64</th>\n      <td>Chen</td>\n      <td>1.03%</td>\n      <td>46.93%</td>\n      <td>0.99%</td>\n      <td>49.51%</td>\n      <td>1.14%</td>\n      <td>52.18%</td>\n      <td>1.70%</td>\n      <td>52.20%</td>\n      <td>2.40%</td>\n      <td>...</td>\n      <td>2.42</td>\n      <td>39:44</td>\n      <td>2.68</td>\n      <td>39:10</td>\n      <td>2.86</td>\n      <td>37:52</td>\n      <td>2.98</td>\n      <td>37:07</td>\n      <td>3.10</td>\n      <td>34:36</td>\n    </tr>\n    <tr>\n      <th>78</th>\n      <td>Lone Druid</td>\n      <td>3.70%</td>\n      <td>54.20%</td>\n      <td>4.35%</td>\n      <td>55.12%</td>\n      <td>5.35%</td>\n      <td>55.73%</td>\n      <td>6.42%</td>\n      <td>55.56%</td>\n      <td>8.39%</td>\n      <td>...</td>\n      <td>3.24</td>\n      <td>38:54</td>\n      <td>3.41</td>\n      <td>38:23</td>\n      <td>3.51</td>\n      <td>37:41</td>\n      <td>3.56</td>\n      <td>36:50</td>\n      <td>3.67</td>\n      <td>34:40</td>\n    </tr>\n    <tr>\n      <th>22</th>\n      <td>Kunkka</td>\n      <td>9.80%</td>\n      <td>53.01%</td>\n      <td>13.46%</td>\n      <td>55.70%</td>\n      <td>16.51%</td>\n      <td>55.93%</td>\n      <td>18.60%</td>\n      <td>55.86%</td>\n      <td>20.84%</td>\n      <td>...</td>\n      <td>3.25</td>\n      <td>42:34</td>\n      <td>3.56</td>\n      <td>42:01</td>\n      <td>3.63</td>\n      <td>41:16</td>\n      <td>3.66</td>\n      <td>40:17</td>\n      <td>3.68</td>\n      <td>37:52</td>\n    </tr>\n    <tr>\n      <th>...</th>\n      <td>...</td>\n      <td>...</td>\n      <td>...</td>\n      <td>...</td>\n      <td>...</td>\n      <td>...</td>\n      <td>...</td>\n      <td>...</td>\n      <td>...</td>\n      <td>...</td>\n      <td>...</td>\n      <td>...</td>\n      <td>...</td>\n      <td>...</td>\n      <td>...</td>\n      <td>...</td>\n      <td>...</td>\n      <td>...</td>\n      <td>...</td>\n      <td>...</td>\n      <td>...</td>\n    </tr>\n    <tr>\n      <th>118</th>\n      <td>Snapfire</td>\n      <td>5.08%</td>\n      <td>44.09%</td>\n      <td>6.07%</td>\n      <td>43.92%</td>\n      <td>6.04%</td>\n      <td>44.25%</td>\n      <td>5.56%</td>\n      <td>44.09%</td>\n      <td>4.40%</td>\n      <td>...</td>\n      <td>2.51</td>\n      <td>41:57</td>\n      <td>2.63</td>\n      <td>41:33</td>\n      <td>2.64</td>\n      <td>40:49</td>\n      <td>2.61</td>\n      <td>39:42</td>\n      <td>2.55</td>\n      <td>37:19</td>\n    </tr>\n    <tr>\n      <th>107</th>\n      <td>Terrorblade</td>\n      <td>3.06%</td>\n      <td>41.81%</td>\n      <td>2.44%</td>\n      <td>41.62%</td>\n      <td>2.30%</td>\n      <td>41.96%</td>\n      <td>2.40%</td>\n      <td>42.19%</td>\n      <td>2.98%</td>\n      <td>...</td>\n      <td>2.37</td>\n      <td>41:24</td>\n      <td>2.72</td>\n      <td>41:07</td>\n      <td>2.94</td>\n      <td>40:40</td>\n      <td>3.11</td>\n      <td>39:56</td>\n      <td>3.27</td>\n      <td>37:06</td>\n    </tr>\n    <tr>\n      <th>42</th>\n      <td>Phantom Assassin</td>\n      <td>21.64%</td>\n      <td>48.11%</td>\n      <td>19.83%</td>\n      <td>46.88%</td>\n      <td>18.21%</td>\n      <td>45.60%</td>\n      <td>16.47%</td>\n      <td>45.02%</td>\n      <td>12.94%</td>\n      <td>...</td>\n      <td>2.69</td>\n      <td>41:10</td>\n      <td>2.93</td>\n      <td>40:47</td>\n      <td>3.02</td>\n      <td>40:03</td>\n      <td>3.08</td>\n      <td>38:59</td>\n      <td>3.10</td>\n      <td>36:51</td>\n    </tr>\n    <tr>\n      <th>96</th>\n      <td>Timbersaw</td>\n      <td>2.79%</td>\n      <td>44.40%</td>\n      <td>2.45%</td>\n      <td>43.69%</td>\n      <td>2.38%</td>\n      <td>43.00%</td>\n      <td>2.43%</td>\n      <td>42.96%</td>\n      <td>2.51%</td>\n      <td>...</td>\n      <td>2.53</td>\n      <td>41:42</td>\n      <td>2.62</td>\n      <td>41:17</td>\n      <td>2.66</td>\n      <td>40:32</td>\n      <td>2.68</td>\n      <td>39:16</td>\n      <td>2.70</td>\n      <td>37:04</td>\n    </tr>\n    <tr>\n      <th>56</th>\n      <td>Enchantress</td>\n      <td>6.05%</td>\n      <td>44.42%</td>\n      <td>5.24%</td>\n      <td>42.01%</td>\n      <td>5.02%</td>\n      <td>40.83%</td>\n      <td>4.82%</td>\n      <td>40.28%</td>\n      <td>5.22%</td>\n      <td>...</td>\n      <td>2.39</td>\n      <td>41:43</td>\n      <td>2.27</td>\n      <td>41:10</td>\n      <td>2.19</td>\n      <td>40:17</td>\n      <td>2.15</td>\n      <td>39:10</td>\n      <td>2.16</td>\n      <td>37:00</td>\n    </tr>\n  </tbody>\n</table>\n<p>124 rows × 22 columns</p>\n</div>"
     },
     "execution_count": 15,
     "metadata": {},
     "output_type": "execute_result"
    }
   ],
   "source": [
    "dota = dota.sort_values(by='(>5K MMR) WinRate(%)', ascending=False)\n",
    "print(dota)\n",
    "# в данном блоке мы сортируем дата сет по максимальному проценту победы на рейтинге свыше 5к\n"
   ],
   "metadata": {
    "collapsed": false,
    "ExecuteTime": {
     "end_time": "2023-12-18T15:43:16.332572200Z",
     "start_time": "2023-12-18T15:43:16.308460800Z"
    }
   },
   "id": "2b6d07ae236bb39f"
  },
  {
   "cell_type": "code",
   "execution_count": 16,
   "outputs": [
    {
     "name": "stdout",
     "output_type": "stream",
     "text": [
      "               Heroes (3K-4K MMR) PickRate(%) (3K-4K MMR) WinRate(%)  \\\n",
      "81   Treant Protector                  13.73%                 54.97%   \n",
      "80              Meepo                   1.70%                 55.14%   \n",
      "64               Chen                   1.14%                 52.18%   \n",
      "78         Lone Druid                   5.35%                 55.73%   \n",
      "22             Kunkka                  16.51%                 55.93%   \n",
      "..                ...                     ...                    ...   \n",
      "118          Snapfire                   6.04%                 44.25%   \n",
      "107       Terrorblade                   2.30%                 41.96%   \n",
      "42   Phantom Assassin                  18.21%                 45.60%   \n",
      "96          Timbersaw                   2.38%                 43.00%   \n",
      "56        Enchantress                   5.02%                 40.83%   \n",
      "\n",
      "    (4K-5K MMR) PickRate(%) (4K-5K MMR) WinRate(%) (>5K MMR) PickRate(%)  \\\n",
      "81                   16.64%                 55.04%                23.31%   \n",
      "80                    1.79%                 53.96%                 2.03%   \n",
      "64                    1.70%                 52.20%                 2.40%   \n",
      "78                    6.42%                 55.56%                 8.39%   \n",
      "22                   18.60%                 55.86%                20.84%   \n",
      "..                      ...                    ...                   ...   \n",
      "118                   5.56%                 44.09%                 4.40%   \n",
      "107                   2.40%                 42.19%                 2.98%   \n",
      "42                   16.47%                 45.02%                12.94%   \n",
      "96                    2.43%                 42.96%                 2.51%   \n",
      "56                    4.82%                 40.28%                 5.22%   \n",
      "\n",
      "    (>5K MMR) WinRate(%)          Heroes.1  (>2K MMR) KDA Ratio  \\\n",
      "81                56.70%  Treant Protector                 2.74   \n",
      "80                55.58%             Meepo                 2.77   \n",
      "64                55.32%              Chen                 2.42   \n",
      "78                55.32%        Lone Druid                 3.24   \n",
      "22                55.24%            Kunkka                 3.25   \n",
      "..                   ...               ...                  ...   \n",
      "118               44.08%          Snapfire                 2.51   \n",
      "107               44.01%       Terrorblade                 2.37   \n",
      "42                43.95%  Phantom Assassin                 2.69   \n",
      "96                42.99%         Timbersaw                 2.53   \n",
      "56                40.45%       Enchantress                 2.39   \n",
      "\n",
      "    (>2K MMR) Avg Match  (2K-3K MMR) KDA Ratio (2K-3K) Avg Match  \\\n",
      "81                41:11                   2.86             40:46   \n",
      "80                38:56                   3.02             38:13   \n",
      "64                39:44                   2.68             39:10   \n",
      "78                38:54                   3.41             38:23   \n",
      "22                42:34                   3.56             42:01   \n",
      "..                  ...                    ...               ...   \n",
      "118               41:57                   2.63             41:33   \n",
      "107               41:24                   2.72             41:07   \n",
      "42                41:10                   2.93             40:47   \n",
      "96                41:42                   2.62             41:17   \n",
      "56                41:43                   2.27             41:10   \n",
      "\n",
      "     (3K-4K MMR) KDA Ratio (3K-4K MMR) Avg Match  (4K-5K MMR) KDA Ratio  \\\n",
      "81                    2.92                 39:56                   2.93   \n",
      "80                    3.18                 37:24                   3.21   \n",
      "64                    2.86                 37:52                   2.98   \n",
      "78                    3.51                 37:41                   3.56   \n",
      "22                    3.63                 41:16                   3.66   \n",
      "..                     ...                   ...                    ...   \n",
      "118                   2.64                 40:49                   2.61   \n",
      "107                   2.94                 40:40                   3.11   \n",
      "42                    3.02                 40:03                   3.08   \n",
      "96                    2.66                 40:32                   2.68   \n",
      "56                    2.19                 40:17                   2.15   \n",
      "\n",
      "    (4K-5K MMR) Avg Match  (<5K MMR) KDA Ratio (<5K MMR) Avg Match  \n",
      "81                  38:57                 2.97               36:26  \n",
      "80                  36:41                 3.40               34:14  \n",
      "64                  37:07                 3.10               34:36  \n",
      "78                  36:50                 3.67               34:40  \n",
      "22                  40:17                 3.68               37:52  \n",
      "..                    ...                  ...                 ...  \n",
      "118                 39:42                 2.55               37:19  \n",
      "107                 39:56                 3.27               37:06  \n",
      "42                  38:59                 3.10               36:51  \n",
      "96                  39:16                 2.70               37:04  \n",
      "56                  39:10                 2.16               37:00  \n",
      "\n",
      "[124 rows x 18 columns]\n"
     ]
    }
   ],
   "source": [
    "dota = dota.drop(['(<2K MMR) PickRate(%)', '(<2K MMR) WinRate(%)', '(2K-3K MMR) PickRate(%)', '(2K-3K MMR) WinRate(%)'],\n",
    "                 axis=1)\n",
    "print(dota)\n",
    "# в данном блоке удаляем столбцы ЛОУ ПТС информации(ппхахп, и далее выводим получившийся дата сет"
   ],
   "metadata": {
    "collapsed": false,
    "ExecuteTime": {
     "end_time": "2023-12-18T15:46:33.716860600Z",
     "start_time": "2023-12-18T15:46:33.662495100Z"
    }
   },
   "id": "8acc1938b98ee678"
  },
  {
   "cell_type": "code",
   "execution_count": 17,
   "outputs": [
    {
     "name": "stdout",
     "output_type": "stream",
     "text": [
      "               Heroes (3K-4K MMR) PickRate(%) (3K-4K MMR) WinRate(%)  \\\n",
      "81   Treant Protector                  13.73%                 54.97%   \n",
      "80              Meepo                   1.70%                 55.14%   \n",
      "64               Chen                   1.14%                 52.18%   \n",
      "78         Lone Druid                   5.35%                 55.73%   \n",
      "22             Kunkka                  16.51%                 55.93%   \n",
      "..                ...                     ...                    ...   \n",
      "118          Snapfire                   6.04%                 44.25%   \n",
      "107       Terrorblade                   2.30%                 41.96%   \n",
      "42   Phantom Assassin                  18.21%                 45.60%   \n",
      "96          Timbersaw                   2.38%                 43.00%   \n",
      "56        Enchantress                   5.02%                 40.83%   \n",
      "\n",
      "    (4K-5K MMR) PickRate(%) (4K-5K MMR) WinRate(%) (>5K MMR) PickRate(%)  \\\n",
      "81                   16.64%                 55.04%                23.31%   \n",
      "80                    1.79%                 53.96%                 2.03%   \n",
      "64                    1.70%                 52.20%                 2.40%   \n",
      "78                    6.42%                 55.56%                 8.39%   \n",
      "22                   18.60%                 55.86%                20.84%   \n",
      "..                      ...                    ...                   ...   \n",
      "118                   5.56%                 44.09%                 4.40%   \n",
      "107                   2.40%                 42.19%                 2.98%   \n",
      "42                   16.47%                 45.02%                12.94%   \n",
      "96                    2.43%                 42.96%                 2.51%   \n",
      "56                    4.82%                 40.28%                 5.22%   \n",
      "\n",
      "    (>5K MMR) WinRate(%)          Heroes.1  (>2K MMR) KDA Ratio  \\\n",
      "81                56.70%  Treant Protector                 2.74   \n",
      "80                55.58%             Meepo                 2.77   \n",
      "64                55.32%              Chen                 2.42   \n",
      "78                55.32%        Lone Druid                 3.24   \n",
      "22                55.24%            Kunkka                 3.25   \n",
      "..                   ...               ...                  ...   \n",
      "118               44.08%          Snapfire                 2.51   \n",
      "107               44.01%       Terrorblade                 2.37   \n",
      "42                43.95%  Phantom Assassin                 2.69   \n",
      "96                42.99%         Timbersaw                 2.53   \n",
      "56                40.45%       Enchantress                 2.39   \n",
      "\n",
      "    (>2K MMR) Avg Match  (2K-3K MMR) KDA Ratio (2K-3K) Avg Match  \\\n",
      "81                41:11                   2.86             40:46   \n",
      "80                38:56                   3.02             38:13   \n",
      "64                39:44                   2.68             39:10   \n",
      "78                38:54                   3.41             38:23   \n",
      "22                42:34                   3.56             42:01   \n",
      "..                  ...                    ...               ...   \n",
      "118               41:57                   2.63             41:33   \n",
      "107               41:24                   2.72             41:07   \n",
      "42                41:10                   2.93             40:47   \n",
      "96                41:42                   2.62             41:17   \n",
      "56                41:43                   2.27             41:10   \n",
      "\n",
      "     (3K-4K MMR) KDA Ratio (3K-4K MMR) Avg Match  (4K-5K MMR) KDA Ratio  \\\n",
      "81                    2.92                 39:56                   2.93   \n",
      "80                    3.18                 37:24                   3.21   \n",
      "64                    2.86                 37:52                   2.98   \n",
      "78                    3.51                 37:41                   3.56   \n",
      "22                    3.63                 41:16                   3.66   \n",
      "..                     ...                   ...                    ...   \n",
      "118                   2.64                 40:49                   2.61   \n",
      "107                   2.94                 40:40                   3.11   \n",
      "42                    3.02                 40:03                   3.08   \n",
      "96                    2.66                 40:32                   2.68   \n",
      "56                    2.19                 40:17                   2.15   \n",
      "\n",
      "    (4K-5K MMR) Avg Match  (<5K MMR) KDA Ratio (<5K MMR) Avg Match  \n",
      "81                  38:57                 2.97               36:26  \n",
      "80                  36:41                 3.40               34:14  \n",
      "64                  37:07                 3.10               34:36  \n",
      "78                  36:50                 3.67               34:40  \n",
      "22                  40:17                 3.68               37:52  \n",
      "..                    ...                  ...                 ...  \n",
      "118                 39:42                 2.55               37:19  \n",
      "107                 39:56                 3.27               37:06  \n",
      "42                  38:59                 3.10               36:51  \n",
      "96                  39:16                 2.70               37:04  \n",
      "56                  39:10                 2.16               37:00  \n",
      "\n",
      "[124 rows x 18 columns]\n"
     ]
    }
   ],
   "source": [
    "dota.drop_duplicates()\n",
    "print(dota)\n",
    "# в данном блоке кода мы  должны были удалить дубликаты, но мой дата сет не хранит дубликаты"
   ],
   "metadata": {
    "collapsed": false,
    "ExecuteTime": {
     "end_time": "2023-12-18T15:47:09.195536900Z",
     "start_time": "2023-12-18T15:47:09.149545800Z"
    }
   },
   "id": "18e232c19d1f5bea"
  },
  {
   "cell_type": "code",
   "execution_count": 24,
   "outputs": [
    {
     "name": "stdout",
     "output_type": "stream",
     "text": [
      "               Heroes (3K-4K MMR) PickRate(%) (3K-4K MMR) WinRate(%)  \\\n",
      "81          Morphling                  13.73%                 54.97%   \n",
      "80          Morphling                   1.70%                 55.14%   \n",
      "64          Morphling                   1.14%                 52.18%   \n",
      "78         Lone Druid                   5.35%                 55.73%   \n",
      "22             Kunkka                  16.51%                 55.93%   \n",
      "..                ...                     ...                    ...   \n",
      "118          Snapfire                   6.04%                 44.25%   \n",
      "107       Terrorblade                   2.30%                 41.96%   \n",
      "42   Phantom Assassin                  18.21%                 45.60%   \n",
      "96          Timbersaw                   2.38%                 43.00%   \n",
      "56        Enchantress                   5.02%                 40.83%   \n",
      "\n",
      "    (4K-5K MMR) PickRate(%) (4K-5K MMR) WinRate(%) (>5K MMR) PickRate(%)  \\\n",
      "81                   16.64%                 55.04%                23.31%   \n",
      "80                    1.79%                 53.96%                 2.03%   \n",
      "64                    1.70%                 52.20%                 2.40%   \n",
      "78                    6.42%                 55.56%                 8.39%   \n",
      "22                   18.60%                 55.86%                20.84%   \n",
      "..                      ...                    ...                   ...   \n",
      "118                   5.56%                 44.09%                 4.40%   \n",
      "107                   2.40%                 42.19%                 2.98%   \n",
      "42                   16.47%                 45.02%                12.94%   \n",
      "96                    2.43%                 42.96%                 2.51%   \n",
      "56                    4.82%                 40.28%                 5.22%   \n",
      "\n",
      "    (>5K MMR) WinRate(%)          Heroes.1  (>2K MMR) KDA Ratio  \\\n",
      "81                56.70%  Treant Protector                 2.74   \n",
      "80                55.58%             Meepo                 2.77   \n",
      "64                55.32%              Chen                 2.42   \n",
      "78                55.32%        Lone Druid                 3.24   \n",
      "22                55.24%            Kunkka                 3.25   \n",
      "..                   ...               ...                  ...   \n",
      "118               44.08%          Snapfire                 2.51   \n",
      "107               44.01%       Terrorblade                 2.37   \n",
      "42                43.95%  Phantom Assassin                 2.69   \n",
      "96                42.99%         Timbersaw                 2.53   \n",
      "56                40.45%       Enchantress                 2.39   \n",
      "\n",
      "    (>2K MMR) Avg Match  (2K-3K MMR) KDA Ratio (2K-3K) Avg Match  \\\n",
      "81                41:11                   2.86             40:46   \n",
      "80                38:56                   3.02             38:13   \n",
      "64                39:44                   2.68             39:10   \n",
      "78                38:54                   3.41             38:23   \n",
      "22                42:34                   3.56             42:01   \n",
      "..                  ...                    ...               ...   \n",
      "118               41:57                   2.63             41:33   \n",
      "107               41:24                   2.72             41:07   \n",
      "42                41:10                   2.93             40:47   \n",
      "96                41:42                   2.62             41:17   \n",
      "56                41:43                   2.27             41:10   \n",
      "\n",
      "     (3K-4K MMR) KDA Ratio (3K-4K MMR) Avg Match  (4K-5K MMR) KDA Ratio  \\\n",
      "81                    2.92                 39:56                   2.93   \n",
      "80                    3.18                 37:24                   3.21   \n",
      "64                    2.86                 37:52                   2.98   \n",
      "78                    3.51                 37:41                   3.56   \n",
      "22                    3.63                 41:16                   3.66   \n",
      "..                     ...                   ...                    ...   \n",
      "118                   2.64                 40:49                   2.61   \n",
      "107                   2.94                 40:40                   3.11   \n",
      "42                    3.02                 40:03                   3.08   \n",
      "96                    2.66                 40:32                   2.68   \n",
      "56                    2.19                 40:17                   2.15   \n",
      "\n",
      "    (4K-5K MMR) Avg Match  (<5K MMR) KDA Ratio (<5K MMR) Avg Match  \n",
      "81                  38:57                 2.97               36:26  \n",
      "80                  36:41                 3.40               34:14  \n",
      "64                  37:07                 3.10               34:36  \n",
      "78                  36:50                 3.67               34:40  \n",
      "22                  40:17                 3.68               37:52  \n",
      "..                    ...                  ...                 ...  \n",
      "118                 39:42                 2.55               37:19  \n",
      "107                 39:56                 3.27               37:06  \n",
      "42                  38:59                 3.10               36:51  \n",
      "96                  39:16                 2.70               37:04  \n",
      "56                  39:10                 2.16               37:00  \n",
      "\n",
      "[124 rows x 18 columns]\n"
     ]
    }
   ],
   "source": [
    "dota[\"Heroes\"].replace({\"Treant Protector\": \"Morphling\", \"Meepo\": \"Morphling\", \"Chen\": \"Morphling\"}, inplace=True)\n",
    "print(dota)\n",
    "# Ну так как я люблю морфлинга я не мог не поставить ему самый большой процент винрейта среди всех, заменив первых трех героев\n",
    "# на морфлинга\n"
   ],
   "metadata": {
    "collapsed": false,
    "ExecuteTime": {
     "end_time": "2023-12-18T17:50:28.108140900Z",
     "start_time": "2023-12-18T17:50:28.096671700Z"
    }
   },
   "id": "560dcea24b3bcb2d"
  },
  {
   "cell_type": "code",
   "execution_count": 25,
   "outputs": [
    {
     "name": "stdout",
     "output_type": "stream",
     "text": [
      "<class 'pandas.core.frame.DataFrame'>\n",
      "Index: 124 entries, 81 to 56\n",
      "Data columns (total 18 columns):\n",
      " #   Column                   Non-Null Count  Dtype  \n",
      "---  ------                   --------------  -----  \n",
      " 0   Heroes                   124 non-null    object \n",
      " 1   (3K-4K MMR) PickRate(%)  124 non-null    object \n",
      " 2   (3K-4K MMR) WinRate(%)   124 non-null    object \n",
      " 3   (4K-5K MMR) PickRate(%)  124 non-null    object \n",
      " 4   (4K-5K MMR) WinRate(%)   124 non-null    object \n",
      " 5   (>5K MMR) PickRate(%)    124 non-null    object \n",
      " 6   (>5K MMR) WinRate(%)     124 non-null    object \n",
      " 7   Heroes.1                 124 non-null    object \n",
      " 8   (>2K MMR) KDA Ratio      124 non-null    float64\n",
      " 9   (>2K MMR) Avg Match      124 non-null    object \n",
      " 10  (2K-3K MMR) KDA Ratio    124 non-null    float64\n",
      " 11  (2K-3K) Avg Match        124 non-null    object \n",
      " 12  (3K-4K MMR) KDA Ratio    124 non-null    float64\n",
      " 13  (3K-4K MMR) Avg Match    124 non-null    object \n",
      " 14  (4K-5K MMR) KDA Ratio    124 non-null    float64\n",
      " 15  (4K-5K MMR) Avg Match    124 non-null    object \n",
      " 16  (<5K MMR) KDA Ratio      124 non-null    float64\n",
      " 17  (<5K MMR) Avg Match      124 non-null    object \n",
      "dtypes: float64(5), object(13)\n",
      "memory usage: 18.4+ KB\n"
     ]
    }
   ],
   "source": [
    "dota.info()\n",
    "# тут мы получаем данные по дата сету, в котором 17 колонок, в каждом мы можем посмотреть тип который она содержит, также\n",
    "# можем посмотреть количество строк и количество нулевых строк, количество занимаемого места\n",
    "# у нас 5 колонн с типом float и 13 колонн с типом object\n",
    "# ни в одной из колонн нет пустых значений"
   ],
   "metadata": {
    "collapsed": false,
    "ExecuteTime": {
     "end_time": "2023-12-18T17:52:17.876617800Z",
     "start_time": "2023-12-18T17:52:17.838893300Z"
    }
   },
   "id": "8508aa6d2d27e24"
  },
  {
   "cell_type": "code",
   "execution_count": 26,
   "outputs": [
    {
     "data": {
      "text/plain": "       (>2K MMR) KDA Ratio  (2K-3K MMR) KDA Ratio  (3K-4K MMR) KDA Ratio  \\\ncount           124.000000             124.000000             124.000000   \nmean              2.723790               2.880161               2.939839   \nstd               0.408277               0.474124               0.504660   \nmin               1.990000               2.010000               2.030000   \n25%               2.470000               2.560000               2.590000   \n50%               2.675000               2.785000               2.870000   \n75%               2.960000               3.152500               3.240000   \nmax               4.460000               4.730000               4.860000   \n\n       (4K-5K MMR) KDA Ratio  (<5K MMR) KDA Ratio  \ncount             124.000000           124.000000  \nmean                2.969758             2.983629  \nstd                 0.526736             0.560948  \nmin                 2.010000             1.980000  \n25%                 2.597500             2.582500  \n50%                 2.880000             2.910000  \n75%                 3.275000             3.390000  \nmax                 4.950000             5.070000  ",
      "text/html": "<div>\n<style scoped>\n    .dataframe tbody tr th:only-of-type {\n        vertical-align: middle;\n    }\n\n    .dataframe tbody tr th {\n        vertical-align: top;\n    }\n\n    .dataframe thead th {\n        text-align: right;\n    }\n</style>\n<table border=\"1\" class=\"dataframe\">\n  <thead>\n    <tr style=\"text-align: right;\">\n      <th></th>\n      <th>(&gt;2K MMR) KDA Ratio</th>\n      <th>(2K-3K MMR) KDA Ratio</th>\n      <th>(3K-4K MMR) KDA Ratio</th>\n      <th>(4K-5K MMR) KDA Ratio</th>\n      <th>(&lt;5K MMR) KDA Ratio</th>\n    </tr>\n  </thead>\n  <tbody>\n    <tr>\n      <th>count</th>\n      <td>124.000000</td>\n      <td>124.000000</td>\n      <td>124.000000</td>\n      <td>124.000000</td>\n      <td>124.000000</td>\n    </tr>\n    <tr>\n      <th>mean</th>\n      <td>2.723790</td>\n      <td>2.880161</td>\n      <td>2.939839</td>\n      <td>2.969758</td>\n      <td>2.983629</td>\n    </tr>\n    <tr>\n      <th>std</th>\n      <td>0.408277</td>\n      <td>0.474124</td>\n      <td>0.504660</td>\n      <td>0.526736</td>\n      <td>0.560948</td>\n    </tr>\n    <tr>\n      <th>min</th>\n      <td>1.990000</td>\n      <td>2.010000</td>\n      <td>2.030000</td>\n      <td>2.010000</td>\n      <td>1.980000</td>\n    </tr>\n    <tr>\n      <th>25%</th>\n      <td>2.470000</td>\n      <td>2.560000</td>\n      <td>2.590000</td>\n      <td>2.597500</td>\n      <td>2.582500</td>\n    </tr>\n    <tr>\n      <th>50%</th>\n      <td>2.675000</td>\n      <td>2.785000</td>\n      <td>2.870000</td>\n      <td>2.880000</td>\n      <td>2.910000</td>\n    </tr>\n    <tr>\n      <th>75%</th>\n      <td>2.960000</td>\n      <td>3.152500</td>\n      <td>3.240000</td>\n      <td>3.275000</td>\n      <td>3.390000</td>\n    </tr>\n    <tr>\n      <th>max</th>\n      <td>4.460000</td>\n      <td>4.730000</td>\n      <td>4.860000</td>\n      <td>4.950000</td>\n      <td>5.070000</td>\n    </tr>\n  </tbody>\n</table>\n</div>"
     },
     "execution_count": 26,
     "metadata": {},
     "output_type": "execute_result"
    }
   ],
   "source": [
    "dota.describe()\n",
    "# тут мы рассматриваем 5 колонн с типом float\n",
    "# в каждой колонне 124 записи\n",
    "# среднее лучшее кда на рейтинге выше 5к\n",
    "# самое отклоняющееся от среднего значение имеет кда на рейтинге выше 5к\n",
    "# минимальное значение, что в принципе логично на рейтинге меньше 2к\n",
    "# нижний квартиль ниже тоже на рейтнге 2к\n",
    "# медиана также относится к ретингу ниже 2к\n",
    "# третий квартиль тоже к рейтингу ниже 2к\n",
    "# а максимальное значение, что логично к рейтингу выше 5к"
   ],
   "metadata": {
    "collapsed": false,
    "ExecuteTime": {
     "end_time": "2023-12-18T17:58:12.986659900Z",
     "start_time": "2023-12-18T17:58:12.881941600Z"
    }
   },
   "id": "b93d29be218e98f2"
  },
  {
   "cell_type": "code",
   "execution_count": 28,
   "outputs": [
    {
     "data": {
      "text/plain": "               Heroes\n81          Morphling\n80          Morphling\n78         Lone Druid\n22             Kunkka\n79       Chaos Knight\n..                ...\n47      Dragon Knight\n119              Mars\n118          Snapfire\n42   Phantom Assassin\n96          Timbersaw\n\n[86 rows x 1 columns]",
      "text/html": "<div>\n<style scoped>\n    .dataframe tbody tr th:only-of-type {\n        vertical-align: middle;\n    }\n\n    .dataframe tbody tr th {\n        vertical-align: top;\n    }\n\n    .dataframe thead th {\n        text-align: right;\n    }\n</style>\n<table border=\"1\" class=\"dataframe\">\n  <thead>\n    <tr style=\"text-align: right;\">\n      <th></th>\n      <th>Heroes</th>\n    </tr>\n  </thead>\n  <tbody>\n    <tr>\n      <th>81</th>\n      <td>Morphling</td>\n    </tr>\n    <tr>\n      <th>80</th>\n      <td>Morphling</td>\n    </tr>\n    <tr>\n      <th>78</th>\n      <td>Lone Druid</td>\n    </tr>\n    <tr>\n      <th>22</th>\n      <td>Kunkka</td>\n    </tr>\n    <tr>\n      <th>79</th>\n      <td>Chaos Knight</td>\n    </tr>\n    <tr>\n      <th>...</th>\n      <td>...</td>\n    </tr>\n    <tr>\n      <th>47</th>\n      <td>Dragon Knight</td>\n    </tr>\n    <tr>\n      <th>119</th>\n      <td>Mars</td>\n    </tr>\n    <tr>\n      <th>118</th>\n      <td>Snapfire</td>\n    </tr>\n    <tr>\n      <th>42</th>\n      <td>Phantom Assassin</td>\n    </tr>\n    <tr>\n      <th>96</th>\n      <td>Timbersaw</td>\n    </tr>\n  </tbody>\n</table>\n<p>86 rows × 1 columns</p>\n</div>"
     },
     "execution_count": 28,
     "metadata": {},
     "output_type": "execute_result"
    }
   ],
   "source": [
    "great_kda = dota.loc[dota[\"(>2K MMR) KDA Ratio\"] > 2.5, [\"Heroes\"]]\n",
    "great_kda\n",
    "# c помощью loc получаем героев с максимальным kda для того чтобы вылезти с лоу птс"
   ],
   "metadata": {
    "collapsed": false,
    "ExecuteTime": {
     "end_time": "2023-12-18T18:12:23.587691500Z",
     "start_time": "2023-12-18T18:12:23.560083400Z"
    }
   },
   "id": "b30744500d4d5663"
  },
  {
   "cell_type": "code",
   "execution_count": 31,
   "outputs": [],
   "source": [
    "great_kda.to_csv(\"great_2K_heroes.csv\", index=False\n",
    "# сохраняем лучших героев до 2к в новый дата сет в файл .csv\n"
   ],
   "metadata": {
    "collapsed": false,
    "ExecuteTime": {
     "end_time": "2023-12-18T18:17:34.950093600Z",
     "start_time": "2023-12-18T18:17:34.923115700Z"
    }
   },
   "id": "8748d51709916a7b"
  },
  {
   "cell_type": "code",
   "execution_count": null,
   "outputs": [],
   "source": [
    "# Вывод : с помощью библиотеки pandas и ее функций реализовали базовый анализ героев игры Dota 2, и в конце выбрали лучших героев\n",
    "# для того чтобы подняться с лоу птс, и сохранили эти данные в новый файл."
   ],
   "metadata": {
    "collapsed": false
   },
   "id": "dfd1befb3d29aeee"
  }
 ],
 "metadata": {
  "kernelspec": {
   "display_name": "Python 3",
   "language": "python",
   "name": "python3"
  },
  "language_info": {
   "codemirror_mode": {
    "name": "ipython",
    "version": 2
   },
   "file_extension": ".py",
   "mimetype": "text/x-python",
   "name": "python",
   "nbconvert_exporter": "python",
   "pygments_lexer": "ipython2",
   "version": "2.7.6"
  }
 },
 "nbformat": 4,
 "nbformat_minor": 5
}
